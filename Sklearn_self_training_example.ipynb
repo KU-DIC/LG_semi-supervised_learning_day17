{
 "cells": [
  {
   "cell_type": "markdown",
   "id": "12bb80aa",
   "metadata": {},
   "source": [
    "# Semi-Supervised Learning: example"
   ]
  },
  {
   "cell_type": "code",
   "execution_count": 1,
   "id": "d12fb691",
   "metadata": {},
   "outputs": [],
   "source": [
    "from IPython.display import display\n",
    "import numpy as np\n",
    "import pandas as pd\n",
    "import seaborn as sns\n",
    "import matplotlib.pyplot as plt\n",
    "\n",
    "from sklearn.preprocessing import StandardScaler\n",
    "from sklearn.model_selection import train_test_split\n",
    "\n",
    "from sklearn.svm import SVC\n",
    "from sklearn.linear_model import LogisticRegression\n",
    "from sklearn.semi_supervised import SelfTrainingClassifier\n",
    "\n",
    "from sklearn.metrics import confusion_matrix, accuracy_score, f1_score, precision_score, recall_score\n",
    "from sklearn.metrics import mean_squared_error, mean_absolute_error, r2_score, mean_absolute_percentage_error\n",
    "from sklearn.metrics import classification_report"
   ]
  },
  {
   "cell_type": "markdown",
   "id": "f457ec19",
   "metadata": {},
   "source": [
    "## 분석 데이터: Marketing Campaign Dataset (이진 분류 문제)"
   ]
  },
  {
   "cell_type": "markdown",
   "id": "2c62f7f5",
   "metadata": {},
   "source": [
    "### Task abstract : 슈퍼마켓 이용자 정보를 기반으로 해당 이용자가 집에 부양 가족(어린이/청소년)이 있는지 여부를 예측"
   ]
  },
  {
   "cell_type": "markdown",
   "id": "a89d83a4",
   "metadata": {},
   "source": [
    "### 설명변수(X) : 개인 정보 및 슈퍼마켓 이용 정보"
   ]
  },
  {
   "cell_type": "markdown",
   "id": "1ce052bb",
   "metadata": {},
   "source": [
    "- Year_Birth (출생년도)\n",
    "- MntWines (와인 품목에 대한 이용자의 연간 지출)\n",
    "- MntFruits (과일 품목에 대한 이용자의 연간 지출)\n",
    "- MntMeatProducts (육류 품목에 대한 이용자의 연간 지출)\n",
    "- MntSweetProducts (과자 품목에 대한 이용자의 연간 지출)"
   ]
  },
  {
   "cell_type": "markdown",
   "id": "ec45ec6e",
   "metadata": {},
   "source": [
    "### 반응변수(Y) : 부양 가족 여부"
   ]
  },
  {
   "cell_type": "markdown",
   "id": "8b898737",
   "metadata": {},
   "source": [
    "- Dependents_Flag : 0 (부양 가족 없음), 1 (부양 가족 있음)"
   ]
  },
  {
   "cell_type": "code",
   "execution_count": 2,
   "id": "33197708",
   "metadata": {},
   "outputs": [],
   "source": [
    "data = pd.read_excel('./data/marketing_campaign.xlsx')"
   ]
  },
  {
   "cell_type": "markdown",
   "id": "744fa2dc",
   "metadata": {},
   "source": [
    "## 다음 조건을 만족하는 semi-supervised learning 모델 학습 및 평가하세요.\n",
    "- 전처리시 변수 'ID'는 제거\n",
    "- 어린이(Kidhome)와 청소년(Teenhome)을 모두 포함한 부양가족 여부에 대한 칼럼 \"Dependents_Flag\" 생성\n",
    "- 학습 데이터 : 테스트 데이터 = 0.75 : 0.25 비율로 설정\n",
    "- 학습데이터 중 Labeled Data의 비율을 0.01로 설정\n",
    "- Supervised learning으로 SVM(Support Vector Machine) classifier 학습 후 성능 확인\n",
    "- SelfTrainingClassifier의 base_estimator를 SVM(Support Vector Machine) classifier로 설정하여 semi-supervised learning 방식으로 학습 후  성능 확인"
   ]
  }
 ],
 "metadata": {
  "kernelspec": {
   "display_name": "Python 3 (ipykernel)",
   "language": "python",
   "name": "python3"
  },
  "language_info": {
   "codemirror_mode": {
    "name": "ipython",
    "version": 3
   },
   "file_extension": ".py",
   "mimetype": "text/x-python",
   "name": "python",
   "nbconvert_exporter": "python",
   "pygments_lexer": "ipython3",
   "version": "3.7.11"
  }
 },
 "nbformat": 4,
 "nbformat_minor": 5
}
