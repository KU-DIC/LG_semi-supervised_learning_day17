{
 "cells": [
  {
   "cell_type": "markdown",
   "id": "3dfbc12e",
   "metadata": {},
   "source": [
    "# <Semi-supervised learning tutorial 1 - CIFAR10 dataset & RandAugment>"
   ]
  },
  {
   "cell_type": "code",
   "execution_count": null,
   "id": "d0840917",
   "metadata": {},
   "outputs": [],
   "source": [
    "! git clone https://github.com/KU-DIC/LG_semi_supervised_learning_day17.git"
   ]
  },
  {
   "cell_type": "code",
   "execution_count": null,
   "id": "1e6ec2ed",
   "metadata": {},
   "outputs": [],
   "source": [
    "import numpy as np\n",
    "import matplotlib.pyplot as plt\n",
    "import collections\n",
    "from torchvision import datasets\n",
    "import PIL\n",
    "from PIL import Image\n",
    "from LG_semi_supervised_learning_day17.augmentation import *"
   ]
  },
  {
   "cell_type": "code",
   "execution_count": null,
   "id": "43aed4ed",
   "metadata": {},
   "outputs": [],
   "source": [
    "data_path = '/content/LG_semi_supervised_learning_day17/data'"
   ]
  },
  {
   "cell_type": "code",
   "execution_count": null,
   "id": "f1cce6b6",
   "metadata": {},
   "outputs": [],
   "source": [
    "train_dataset = datasets.CIFAR10(data_path, train=True, download=False)\n",
    "test_dataset = datasets.CIFAR10(data_path, train=False, download=False)"
   ]
  },
  {
   "cell_type": "code",
   "execution_count": null,
   "id": "c105a55a",
   "metadata": {},
   "outputs": [],
   "source": [
    "train_dataset.classes"
   ]
  },
  {
   "cell_type": "code",
   "execution_count": null,
   "id": "11c8f759",
   "metadata": {},
   "outputs": [],
   "source": [
    "train_dataset.class_to_idx"
   ]
  },
  {
   "cell_type": "code",
   "execution_count": null,
   "id": "9dca97ce",
   "metadata": {},
   "outputs": [],
   "source": [
    "train_dataset.targets[:10]"
   ]
  },
  {
   "cell_type": "code",
   "execution_count": null,
   "id": "5a4f174e",
   "metadata": {},
   "outputs": [],
   "source": [
    "train_dataset.data.shape"
   ]
  },
  {
   "cell_type": "code",
   "execution_count": null,
   "id": "84e56549",
   "metadata": {},
   "outputs": [],
   "source": [
    "test_dataset.data.shape"
   ]
  },
  {
   "cell_type": "code",
   "execution_count": null,
   "id": "83580a90",
   "metadata": {},
   "outputs": [],
   "source": [
    "collections.Counter(train_dataset.targets)"
   ]
  },
  {
   "cell_type": "code",
   "execution_count": null,
   "id": "a01d6201",
   "metadata": {},
   "outputs": [],
   "source": [
    "collections.Counter(test_dataset.targets)"
   ]
  },
  {
   "cell_type": "code",
   "execution_count": null,
   "id": "1c72236c",
   "metadata": {},
   "outputs": [],
   "source": [
    "train_dataset.class_to_idx.keys()"
   ]
  },
  {
   "cell_type": "code",
   "execution_count": null,
   "id": "4fe8887b",
   "metadata": {},
   "outputs": [],
   "source": [
    "train_dataset.class_to_idx.values()"
   ]
  },
  {
   "cell_type": "code",
   "execution_count": null,
   "id": "963239c8",
   "metadata": {},
   "outputs": [],
   "source": [
    "np.random.seed(0)\n",
    "fig = plt.figure(figsize=(20, 20))\n",
    "for cls, i in zip(train_dataset.class_to_idx.keys(), train_dataset.class_to_idx.values()):\n",
    "    index_list = np.where(np.array(train_dataset.targets)==i)[0]\n",
    "    index = np.random.choice(index_list, 1, replace=False)\n",
    "    img = train_dataset.data[index][0]\n",
    "    \n",
    "    fig.add_subplot(5, 5, i+1)\n",
    "    plt.imshow(img)\n",
    "    plt.title(f'{cls} - {i}')\n",
    "plt.show()"
   ]
  },
  {
   "cell_type": "code",
   "execution_count": null,
   "id": "45d5795a",
   "metadata": {},
   "outputs": [],
   "source": [
    "def rand_augment_pool():\n",
    "    augs = [\n",
    "        # 사용할 이미지에 맞는 augmentation 풀 설정\n",
    "        # 함수명, 각 증강기법에 하이퍼파라미터 값으로 적당한 max_v, bias 미리 설정\n",
    "        (AutoContrast, None, None),\n",
    "        (Equalize, None, None),\n",
    "        (Invert, None, None),\n",
    "        (Rotate, 30, None),\n",
    "        (Posterize, 4, 0),\n",
    "        (Solarize, 256, None),\n",
    "        (Color, 1.8, 0.1),\n",
    "        (Contrast, 1.8, 0.1),\n",
    "        (Brightness, 1.8, 0.1),\n",
    "        (Sharpness, 1.8, 0.1),\n",
    "        (ShearX, 0.3, None),\n",
    "        (ShearY, 0.3, None),\n",
    "        (TranslateXConst, 100, None),\n",
    "        (TranslateYConst, 100, None),\n",
    "    ]\n",
    "    return augs"
   ]
  },
  {
   "cell_type": "code",
   "execution_count": null,
   "id": "7ff04f21",
   "metadata": {},
   "outputs": [],
   "source": [
    "class RandAugment(object):\n",
    "    def __init__(self, n, m, resample_mode=PIL.Image.BICUBIC, fill=(128, 128, 128)):\n",
    "        global RESAMPLE_MODE, FILL_COLOR\n",
    "        RESAMPLE_MODE = resample_mode\n",
    "        FILL_COLOR = fill\n",
    "        \n",
    "        self.n = int(n)\n",
    "        self.m = m\n",
    "        self.augment_pool = rand_augment_pool()\n",
    "\n",
    "    def __call__(self, img):\n",
    "        ops = random.choices(self.augment_pool, k=self.n)\n",
    "        for op, max_v, bias in ops:\n",
    "            print(op)\n",
    "            img = op(img, v=self.m, max_v=max_v, bias=bias)\n",
    "        return img"
   ]
  },
  {
   "cell_type": "code",
   "execution_count": null,
   "id": "ed06944f",
   "metadata": {},
   "outputs": [],
   "source": [
    "path = f'{data_path}/air_plane.jpg'\n",
    "image = Image.open(path).convert('RGB')"
   ]
  },
  {
   "cell_type": "code",
   "execution_count": null,
   "id": "72b4dbe5",
   "metadata": {},
   "outputs": [],
   "source": [
    "n = 5\n",
    "m = 10\n",
    "ra = RandAugment(n, m)\n",
    "transform_image = ra(image)"
   ]
  },
  {
   "cell_type": "code",
   "execution_count": null,
   "id": "39d36cd5",
   "metadata": {},
   "outputs": [],
   "source": [
    "np.random.seed(0)\n",
    "fig = plt.figure(figsize=(10, 10))\n",
    "\n",
    "fig.add_subplot(1, 2, 1)\n",
    "plt.imshow(image)\n",
    "plt.title('Original')\n",
    "\n",
    "fig.add_subplot(1, 2, 2)\n",
    "plt.imshow(transform_image)\n",
    "plt.title(f'RandAugment n={n}, m={m}')\n",
    "\n",
    "plt.show()"
   ]
  },
  {
   "cell_type": "code",
   "execution_count": null,
   "id": "18c3548b",
   "metadata": {},
   "outputs": [],
   "source": [
    "def cifar_augment_pool():\n",
    "    augs = [\n",
    "        (AutoContrast, None, None),\n",
    "        (Equalize, None, None),\n",
    "        (Invert, None, None),\n",
    "        (Rotate, 30, None),\n",
    "        (Posterize, 4, 0),\n",
    "        (Solarize, 256, None),\n",
    "        (Color, 1.8, 0.1),\n",
    "        (Contrast, 1.8, 0.1),\n",
    "        (Brightness, 1.8, 0.1),\n",
    "        (Sharpness, 1.8, 0.1),\n",
    "        (ShearX, 0.3, None),\n",
    "        (ShearY, 0.3, None),\n",
    "        (TranslateXConst, 32 // 8, None),\n",
    "        (TranslateYConst, 32 // 8, None),\n",
    "        (CutoutConst, 32 // 8, None),\n",
    "    ]\n",
    "    return augs"
   ]
  },
  {
   "cell_type": "code",
   "execution_count": null,
   "id": "5bf217b5",
   "metadata": {},
   "outputs": [],
   "source": [
    "class RandAugmentCIFAR(object):\n",
    "    def __init__(self, n, m, resample_mode=PIL.Image.BICUBIC, fill=(128, 128, 128)):\n",
    "        global RESAMPLE_MODE, FILL_COLOR\n",
    "        RESAMPLE_MODE = resample_mode\n",
    "        FILL_COLOR = fill\n",
    "        self.n = int(n)\n",
    "        self.m = m\n",
    "        self.augment_pool = cifar_augment_pool()\n",
    "\n",
    "    def __call__(self, img):\n",
    "        ops = random.choices(self.augment_pool, k=self.n)\n",
    "        for op, max_v, bias in ops:\n",
    "            img = op(img, v=self.m, max_v=max_v, bias=bias)\n",
    "        img = CutoutConst(img, v=self.m, max_v=32 // 4)\n",
    "        return img"
   ]
  },
  {
   "cell_type": "code",
   "execution_count": null,
   "id": "a6be97ce",
   "metadata": {},
   "outputs": [],
   "source": [
    "ra_cifar = RandAugmentCIFAR(5, 10)"
   ]
  },
  {
   "cell_type": "code",
   "execution_count": null,
   "id": "2ea01a1f",
   "metadata": {},
   "outputs": [],
   "source": [
    "np.random.seed(0)\n",
    "fig = plt.figure(figsize=(5,40))\n",
    "for cls, i in zip(train_dataset.class_to_idx.keys(), train_dataset.class_to_idx.values()):\n",
    "    index_list = np.where(np.array(train_dataset.targets)==i)[0]\n",
    "    index = np.random.choice(index_list, 1, replace=False)\n",
    "    img = train_dataset.data[index][0]\n",
    "    img = Image.fromarray(img)\n",
    "    transform_image = ra_cifar(img)\n",
    "    \n",
    "    fig.add_subplot(10, 2, 2*i+1)\n",
    "    plt.imshow(img)\n",
    "    plt.title(f'{cls} - {i}')\n",
    "    \n",
    "    fig.add_subplot(10, 2, 2*i+2)\n",
    "    plt.imshow(transform_image)\n",
    "    plt.title(f'{cls} - {i} RandAug')\n",
    "plt.show()"
   ]
  }
 ],
 "metadata": {
  "kernelspec": {
   "display_name": "Python 3 (ipykernel)",
   "language": "python",
   "name": "python3"
  },
  "language_info": {
   "codemirror_mode": {
    "name": "ipython",
    "version": 3
   },
   "file_extension": ".py",
   "mimetype": "text/x-python",
   "name": "python",
   "nbconvert_exporter": "python",
   "pygments_lexer": "ipython3",
   "version": "3.7.11"
  }
 },
 "nbformat": 4,
 "nbformat_minor": 5
}
